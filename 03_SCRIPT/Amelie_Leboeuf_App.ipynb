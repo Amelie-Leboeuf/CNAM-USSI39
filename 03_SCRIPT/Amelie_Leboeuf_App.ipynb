{
 "cells": [
  {
   "cell_type": "markdown",
   "metadata": {},
   "source": [
    "# Outil : filtrer les entrées du dictionnaire enrichi de Buchanan\n",
    "\n",
    "Amélie Leboeuf"
   ]
  },
  {
   "cell_type": "markdown",
   "metadata": {},
   "source": [
    "### Importer les librairies"
   ]
  },
  {
   "cell_type": "code",
   "execution_count": 312,
   "metadata": {},
   "outputs": [],
   "source": [
    "from IPython.display import display, clear_output, HTML, Markdown, Audio # import necessaire à la création des widgets\n",
    "import ipywidgets as widgets # import necessaire à la création des widgets\n",
    "import pandas as pd\n",
    "from bs4 import BeautifulSoup # Isoler des partie et naviguer dans le code HTML\n",
    "import requests # Requête HTML\n",
    "#from IPython import display # Ecouter un mp3"
   ]
  },
  {
   "cell_type": "markdown",
   "metadata": {},
   "source": [
    "### Importer le dictionnaire enrichi de Buchanan"
   ]
  },
  {
   "cell_type": "code",
   "execution_count": 320,
   "metadata": {},
   "outputs": [],
   "source": [
    "cheminDuFichierCSV = \"./../02_OUTPUT/DicoTradBuch_ALL.csv\" \n",
    "dfDicoBuch = pd.read_csv(cheminDuFichierCSV, delimiter=\";\", encoding=\"utf8\")\n",
    "#dfDicoBuch.sample(n=5)"
   ]
  },
  {
   "cell_type": "markdown",
   "metadata": {},
   "source": [
    "### Scrapping"
   ]
  },
  {
   "cell_type": "code",
   "execution_count": 314,
   "metadata": {},
   "outputs": [],
   "source": [
    "def mp3(word):\n",
    "    urlTarget = \"https://www.linguee.fr/anglais-francais/traduction/\"+ word +\".html\" # Site web\n",
    "    response = requests.get(urlTarget) # Requête\n",
    "    soup = BeautifulSoup(response.text,'html.parser') \n",
    "    souplettesBody = soup.find('body') # Rechercher tout le contenu des balise body\n",
    "    finded = souplettesBody.find('a',{\"class\":\"audio\"})\n",
    "    value = finded[\"id\"][5:len(finded[\"id\"])]\n",
    "    return value"
   ]
  },
  {
   "cell_type": "markdown",
   "metadata": {},
   "source": [
    "### Création des widget"
   ]
  },
  {
   "cell_type": "code",
   "execution_count": 315,
   "metadata": {},
   "outputs": [],
   "source": [
    "# definition du widget permettant de taper un texte \n",
    "textTarget = widgets.Text(\n",
    "       value=\"love\",\n",
    "       description='motVedette',\n",
    "       layout={'width': '300px'})"
   ]
  },
  {
   "cell_type": "code",
   "execution_count": 316,
   "metadata": {},
   "outputs": [],
   "source": [
    "sliderNbSyll = widgets.IntRangeSlider(\n",
    "    value=[0, 7],\n",
    "    min=0,\n",
    "    max=7,\n",
    "    step=1,\n",
    "    description='nbSyll')"
   ]
  },
  {
   "cell_type": "code",
   "execution_count": 317,
   "metadata": {},
   "outputs": [],
   "source": [
    "sliderTarget = widgets.BoundedIntText( \n",
    "    value=2,\n",
    "    min=1,\n",
    "    max=20,\n",
    "    step=1,\n",
    "    description='Taille')"
   ]
  },
  {
   "cell_type": "code",
   "execution_count": 318,
   "metadata": {},
   "outputs": [],
   "source": [
    "# définition du widget button permettant de lancer l'extraction\n",
    "button = widgets.Button(description='Démarrer')\n",
    "\n",
    "# définition du widget permettant l'affichage d'une sortie\n",
    "out1 = widgets.Output()\n",
    "out2 = widgets.Output()\n",
    "\n",
    "# spécifier les actions à réaliser lors de l'appui sur le bouton\n",
    "def on_button_clicked(_):\n",
    "\n",
    "    with out1:\n",
    "        clear_output()\n",
    "        \n",
    "        df = dfDicoBuch[dfDicoBuch[\"motVedette\"].str.contains(textTarget.value)]\n",
    "        if sliderNbSyll.value[0] == sliderNbSyll.value[1]:\n",
    "            df = df[df[\"nbSyll\"] == sliderNbSyll.value[0]]\n",
    "        else :\n",
    "            df = df[df[\"nbSyll\"] >= sliderNbSyll.value[0]]\n",
    "            df = df[df[\"nbSyll\"] <= sliderNbSyll.value[1]]\n",
    "        df = df.head(sliderTarget.value)\n",
    "        display(df)\n",
    "\n",
    "    with out2:\n",
    "        clear_output()\n",
    "        \n",
    "        for word in df[\"motVedette\"]:\n",
    "            value = mp3(word)\n",
    "            #value = \"/3e/3e63afd0565f7fa98d084139112a04d5-400\" # test\n",
    "            lienUS = \"https://www.linguee.fr/mp3/EN_US\" + value +\".mp3\" # Lien US\n",
    "            lienUK = \"https://www.linguee.fr/mp3/EN_UK\" + value +\".mp3\" # Lien UK\n",
    "            \n",
    "            prep = \"US : \" + word\n",
    "            display(prep, Audio(url=lienUS))\n",
    "            prep = \"UK : \" + word\n",
    "            display(prep, Audio(url=lienUK))\n",
    "        \n",
    "        \n",
    "button.on_click(on_button_clicked)"
   ]
  },
  {
   "cell_type": "markdown",
   "metadata": {},
   "source": [
    "### Afficher l'outil"
   ]
  },
  {
   "cell_type": "code",
   "execution_count": 319,
   "metadata": {},
   "outputs": [
    {
     "data": {
      "application/vnd.jupyter.widget-view+json": {
       "model_id": "99f1bec74f0648638e694ed686e28dd2",
       "version_major": 2,
       "version_minor": 0
      },
      "text/plain": [
       "VBox(children=(HBox(children=(Text(value='love', description='motVedette', layout=Layout(width='300px')), IntR…"
      ]
     },
     "metadata": {},
     "output_type": "display_data"
    }
   ],
   "source": [
    "# les widgets de filtre input\n",
    "vbFiltres = widgets.HBox([textTarget, sliderNbSyll, sliderTarget, button])\n",
    "\n",
    "# les widgets d'output\n",
    "vbOuts = widgets.VBox([out1,out2])\n",
    "\n",
    "hbAllWidgets = widgets.VBox([vbFiltres,vbOuts])\n",
    "hbAllWidgets"
   ]
  }
 ],
 "metadata": {
  "kernelspec": {
   "display_name": "Python 3 (ipykernel)",
   "language": "python",
   "name": "python3"
  },
  "language_info": {
   "codemirror_mode": {
    "name": "ipython",
    "version": 3
   },
   "file_extension": ".py",
   "mimetype": "text/x-python",
   "name": "python",
   "nbconvert_exporter": "python",
   "pygments_lexer": "ipython3",
   "version": "3.9.7"
  }
 },
 "nbformat": 4,
 "nbformat_minor": 4
}
